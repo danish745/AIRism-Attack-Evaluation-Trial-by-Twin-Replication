# Evaluation Table Notebook (R2, RMSE, MAE)

import pandas as pd
import numpy as np
import matplotlib.pyplot as plt
import seaborn as sns

from sklearn.metrics import mean_absolute_error, r2_score, mean_squared_error
from sklearn.ensemble import RandomForestRegressor
from sklearn.svm import SVR
from sklearn.preprocessing import MinMaxScaler
from sklearn.model_selection import train_test_split

from tensorflow.keras.models import Sequential
from tensorflow.keras.layers import Input, Conv1D, Flatten, Dense
from tensorflow.keras.optimizers import Adam

# === File Paths ===
attack_files = {
    "Critical Node": "C:/Users/Documents/AirSim/drone_simulation_log_critical_node.csv",
    "Data Manipulation": "C:/Users/Documents/AirSim/drone_simulation_log_data_manipulation.csv",
    "MITM Attack": "C:/Users/Documents/AirSim/drone_simulation_log_mitm.csv",
    "Sybil Attack": "C:/Users/Documents/AirSim/drone_sybil_attack.csv"
}

# === Features ===
features = [
    "Trust Score", "Latency", "Packet Loss", "Relative Speed",
    "Location Accuracy", "Battery Level Norm",
    "Scale-Intensity Centrality", "Closeness Centrality"
]

# === Preprocessing ===
def preprocess(df):
    df["Battery Level Norm"] = df["Battery Level"] / 100
    df["Scale-Intensity Centrality"] = df["Communication Intensity"] * df["Communication Scale"]
    df["Trust Score"] = (
        0.2 * (1 - df["Latency"]) +
        0.1 * (1 - df["Packet Loss"]) +
        0.2 * df["Sensor Functionality"] +
        0.1 * df["Battery Level Norm"] +
        0.2 * df["Scale-Intensity Centrality"] +
        0.1 * df["Closeness Centrality"] +
        0.1 * df["Eigenvector Centrality"]
    )
    X = df[features]
    y = df["Swarm Coordination Rate"]
    return X, y

# === Model Functions ===
def model_rf(X_train, y_train, X_all):
    model = RandomForestRegressor(n_estimators=100, random_state=42)
    model.fit(X_train, y_train)
    return model.predict(X_all)

def model_svm(X_train, y_train, X_all):
    model = SVR(kernel='rbf', C=100, epsilon=0.0005)
    model.fit(X_train, y_train)
    return model.predict(X_all)

def model_cnn(X_train, y_train, X_all):
    model = Sequential([
        Input(shape=(X_train.shape[1], 1)),
        Conv1D(64, kernel_size=2, activation='relu'),
        Conv1D(32, kernel_size=2, activation='relu'),
        Flatten(),
        Dense(64, activation='relu'),
        Dense(1)
    ])
    model.compile(optimizer=Adam(0.001), loss='mse')
    model.fit(X_train, y_train, epochs=50, batch_size=8, verbose=0)
    return model.predict(X_all).flatten()

# === Evaluation Pipeline ===
summary = []

for attack_name, path in attack_files.items():
    print(f"\n Processing: {attack_name}")
    df = pd.read_csv(path)
    X, y = preprocess(df)

    scaler = MinMaxScaler()
    X_scaled = scaler.fit_transform(X)
    X_reshaped = X_scaled.reshape((X_scaled.shape[0], X_scaled.shape[1], 1))

    X_train, X_test, y_train, y_test = train_test_split(X_scaled, y, test_size=0.2, random_state=42)
    X_train_r, X_test_r, _, _ = train_test_split(X_reshaped, y, test_size=0.2, random_state=42)

    models = {
        "SVM (SVR)": model_svm(X_train, y_train, X_scaled),
        "Random Forest": model_rf(X_train, y_train, X_scaled),
        "CNN": model_cnn(X_train_r, y_train, X_reshaped)
    }

    for model_name, preds in models.items():
        mae = mean_absolute_error(y, preds)
        rmse = mean_squared_error(y, preds, squared=False)
        r2 = r2_score(y, preds)
        summary.append({
            "Attack": attack_name,
            "Model": model_name,
            "MAE": round(mae, 6),
            "RMSE": round(rmse, 6),
            "R2 Score": round(r2, 4)
        })

# === Final Table and Save as PNG ===
results_df = pd.DataFrame(summary)
results_df = results_df.sort_values(by=["Attack", "R2 Score"], ascending=[True, False])

# Save table as PNG
plt.figure(figsize=(10, 6))
plt.axis('off')
tbl = plt.table(
    cellText=results_df.values,
    colLabels=results_df.columns,
    loc='center',
    cellLoc='center',
    colLoc='center',
)
tbl.auto_set_font_size(False)
tbl.set_fontsize(10)
tbl.scale(1.1, 1.8)

save_path = "C:/Users/Documents/AirSim/evaluation.png"
plt.savefig(save_path, dpi=300, bbox_inches='tight')
print(f" Evaluation table saved as PNG at:\n{save_path}")
plt.show()

