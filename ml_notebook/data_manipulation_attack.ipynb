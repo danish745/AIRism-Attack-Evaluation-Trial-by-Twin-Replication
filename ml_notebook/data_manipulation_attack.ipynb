# Data Manipulation Attack Notebook

import pandas as pd
import numpy as np
import matplotlib.pyplot as plt
import random
import tensorflow as tf

from sklearn.model_selection import train_test_split
from sklearn.preprocessing import MinMaxScaler
from sklearn.ensemble import RandomForestRegressor
from sklearn.svm import SVR
from sklearn.metrics import mean_squared_error, r2_score

from tensorflow.keras.models import Sequential
from tensorflow.keras.layers import Input, Conv1D, Flatten, Dense
from tensorflow.keras.optimizers import Adam

# ✅ Reproducibility
np.random.seed(45)
random.seed(45)
tf.random.set_seed(45)

# 📥 Load dataset
df = pd.read_csv("C:/Users/Documents/AirSim/drone_simulation_log_data_manipulation.csv")

# 🛠️ Feature engineering
df["Battery Level Norm"] = df["Battery Level"] / 100
df["Scale-Intensity Centrality"] = df["Communication Intensity"] * df["Communication Scale"]

# 🔐 Trust Score calculation
df["Trust Score"] = (
    0.2 * (1 - df["Latency"]) +
    0.1 * (1 - df["Packet Loss"]) +
    0.2 * df["Sensor Functionality"] +
    0.1 * df["Battery Level Norm"] +
    0.2 * df["Scale-Intensity Centrality"] +
    0.1 * df["Closeness Centrality"] +
    0.1 * df["Eigenvector Centrality"]
)

# 🎯 Define features and target
features = [
    "Trust Score", "Latency", "Packet Loss", "Relative Speed",
    "Location Accuracy", "Battery Level Norm",
    "Scale-Intensity Centrality", "Closeness Centrality"
]
X = df[features].values
y = df["Swarm Coordination Rate"].values.reshape(-1, 1)

# 🔃 Normalize features
feature_scaler = MinMaxScaler()
X_scaled = feature_scaler.fit_transform(X)

# 🔃 Normalize target
target_scaler = MinMaxScaler()
y_scaled = target_scaler.fit_transform(y).flatten()

# ➕ CNN input reshaping
X_reshaped = X_scaled.reshape((X_scaled.shape[0], X_scaled.shape[1], 1))

# 📊 Group actual values by Iteration
avg_actual = df.groupby("Iteration")["Swarm Coordination Rate"].mean()

# ------------------ MODEL 1: RANDOM FOREST ------------------
X_train_rf, X_test_rf, y_train_rf, y_test_rf = train_test_split(X_scaled, y, test_size=0.2, random_state=42)
model_rf = RandomForestRegressor(n_estimators=100, random_state=42)
model_rf.fit(X_train_rf, y_train_rf.ravel())
df["Predicted Coordination (RF)"] = model_rf.predict(X_scaled)

# ------------------ MODEL 2: SVM ------------------
X_train_svm, X_test_svm, y_train_svm, y_test_svm = train_test_split(X_scaled, y, test_size=0.2, random_state=42)
model_svm = SVR(kernel='rbf', C=100, epsilon=0.0005)
model_svm.fit(X_train_svm, y_train_svm.ravel())
df["Predicted Coordination (SVM)"] = model_svm.predict(X_scaled)

# ------------------ MODEL 3: CNN ------------------
X_train_cnn, X_test_cnn, y_train_cnn, y_test_cnn = train_test_split(X_reshaped, y_scaled, test_size=0.2, random_state=42)
model_cnn = Sequential([
    Input(shape=(X_reshaped.shape[1], 1)),
    Conv1D(64, kernel_size=2, activation='relu'),
    Conv1D(32, kernel_size=2, activation='relu'),
    Flatten(),
    Dense(64, activation='relu'),
    Dense(1)
])
model_cnn.compile(optimizer=Adam(learning_rate=0.001), loss='mse')
model_cnn.fit(X_train_cnn, y_train_cnn, epochs=100, batch_size=8, verbose=0)
cnn_preds_scaled = model_cnn.predict(X_reshaped, verbose=0)
df["Predicted Coordination (CNN)"] = target_scaler.inverse_transform(cnn_preds_scaled).flatten()

# ------------------ PLOTTING ------------------

models = {
    "Random Forest": "Predicted Coordination (RF)",
    "SVM": "Predicted Coordination (SVM)",
    "CNN": "Predicted Coordination (CNN)"
}
colors = {
    "Random Forest": "orange",
    "SVM": "green",
    "CNN": "purple"
}

# === Create the plot ===
plt.figure(figsize=(12, 6))

# Plot actual coordination rate
plt.plot(avg_actual.index, avg_actual.values,
         label="Actual Coordination", marker='o', color='black', linewidth=2)

# Plot model predictions
for name, col in models.items():
    avg_pred = df.groupby("Iteration")[col].mean()
    plt.plot(avg_pred.index, avg_pred.values,
             label=f"{name} Prediction", linestyle='--', marker='x',
             linewidth=2, color=colors[name])

# Titles and formatting
plt.title("Actual vs Predicted Swarm Coordination Rate (Data Manipulation Attack)")
plt.xlabel("Drone Iteration (0 to 14)")
plt.ylabel("Coordination Rate")
plt.xticks(avg_actual.index)
plt.ylim(0.84, 0.96)
plt.legend()
plt.grid(True)
plt.tight_layout()

# === Save the figure ===
save_path = "C:/Users/Documents/AirSim/data_manipulation_prediction.png"
plt.savefig(save_path, dpi=300)
print(f"✅ Data Manipulation plot saved to: {save_path}")

# === Show the plot ===
plt.show()
