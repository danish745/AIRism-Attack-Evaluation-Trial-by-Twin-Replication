# Critical Node Attack Notebook

Your code goes here.
