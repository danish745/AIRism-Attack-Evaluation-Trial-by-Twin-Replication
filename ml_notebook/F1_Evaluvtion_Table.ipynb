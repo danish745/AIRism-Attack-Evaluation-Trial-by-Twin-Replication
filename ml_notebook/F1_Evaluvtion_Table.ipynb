import pandas as pd
import numpy as np
from sklearn.model_selection import train_test_split
from sklearn.ensemble import RandomForestRegressor
from sklearn.svm import SVR
from sklearn.preprocessing import MinMaxScaler
from sklearn.metrics import confusion_matrix
from tensorflow.keras.models import Sequential
from tensorflow.keras.layers import Input, Conv1D, Flatten, Dense
from tensorflow.keras.optimizers import Adam

# === FILE PATHS ===
file_paths = {
    "Critical Node": "C:/Users/Documents/AirSim/drone_simulation_log_critical_node.csv",
    "Data Manipulation": "C:/Users/Documents/AirSim/drone_simulation_log_data_manipulation.csv",
    "MITM Attack": "C:/Users/danis/AirSim/drone_simulation_log_mitm.csv",
    "Sybil Attack": "C:/Users/Documents/AirSim/drone_sybil_attack.csv"
}

# === FEATURES TO USE ===
features = [
    "Trust Score", "Latency", "Packet Loss", "Relative Speed",
    "Location Accuracy", "Battery Level Norm",
    "Scale-Intensity Centrality", "Closeness Centrality"
]

# === MODEL DEFINITIONS ===
def model_rf(X_train, y_train, X_all):
    model = RandomForestRegressor(n_estimators=100, random_state=42)
    model.fit(X_train, y_train)
    return model.predict(X_all)

def model_svm(X_train, y_train, X_all):
    model = SVR(kernel='rbf', C=100, epsilon=0.0005)
    model.fit(X_train, y_train)
    return model.predict(X_all)

def model_cnn(X_train, y_train, X_all):
    model = Sequential([
        Input(shape=(X_train.shape[1], 1)),
        Conv1D(64, kernel_size=2, activation='relu'),
        Conv1D(32, kernel_size=2, activation='relu'),
        Flatten(),
        Dense(64, activation='relu'),
        Dense(1, activation='sigmoid')
    ])
    model.compile(optimizer=Adam(0.001), loss='mse')
    model.fit(X_train, y_train, epochs=30, batch_size=8, verbose=0)
    return model.predict(X_all).flatten()

# === CONFUSION MATRIX COLLECTION ===
conf_data = []

for attack, path in file_paths.items():
    print(f"\n📌 Processing: {attack}")
    df = pd.read_csv(path)

    # Feature Engineering
    df["Battery Level Norm"] = df["Battery Level"] / 100
    df["Scale-Intensity Centrality"] = df["Communication Intensity"] * df["Communication Scale"]
    df["Trust Score"] = (
        0.2 * (1 - df["Latency"]) +
        0.1 * (1 - df["Packet Loss"]) +
        0.2 * df["Sensor Functionality"] +
        0.1 * df["Battery Level Norm"] +
        0.2 * df["Scale-Intensity Centrality"] +
        0.1 * df["Closeness Centrality"] +
        0.1 * df["Eigenvector Centrality"]
    )

    y_true = df["Swarm Coordination Rate"]
    y_binary = (y_true >= 0.85).astype(int)

    if len(np.unique(y_binary)) < 2:
        print(f"⚠️ Skipping {attack}: insufficient class diversity")
        continue

    # Feature scaling
    X = df[features]
    scaler = MinMaxScaler()
    X_scaled = scaler.fit_transform(X)
    X_reshaped = X_scaled.reshape((X_scaled.shape[0], X_scaled.shape[1], 1))

    # Train-test split
    X_train, _, y_train, _ = train_test_split(X_scaled, y_binary, test_size=0.2, random_state=42)
    X_train_r, _, y_train_r, _ = train_test_split(X_reshaped, y_binary, test_size=0.2, random_state=42)

    # Predictions from selected models only
    preds_dict = {
        "Random Forest": model_rf(X_train, y_train, X_scaled),
        "SVM": model_svm(X_train, y_train, X_scaled),
        "CNN": model_cnn(X_train_r, y_train_r, X_reshaped)
    }

    for model_name, preds in preds_dict.items():
        y_pred = (preds >= 0.85).astype(int)
        cm = confusion_matrix(y_binary, y_pred, labels=[0, 1])
        conf_data.append((attack, model_name, cm))

# === CLASSIFICATION METRICS TABLE (CORRECTED) ===
metrics_data = []

for attack, model, cm in conf_data:
    tn, fp, fn, tp = cm.ravel()

    precision = tp / (tp + fp) if (tp + fp) > 0 else 0.0
    recall = tp / (tp + fn) if (tp + fn) > 0 else 0.0
    f1 = 2 * (precision * recall) / (precision + recall) if (precision + recall) > 0 else 0.0
    accuracy = (tp + tn) / (tp + tn + fp + fn)

    support_0 = tn + fp  # Malicious
    support_1 = fn + tp  # Trustworthy

    metrics_data.append({
        "Attack": attack,
        "Model": model,
        "Accuracy": round(accuracy, 4),
        "Precision": round(precision, 4),
        "Recall": round(recall, 4),
        "F1 Score": round(f1, 4),
        "Support (Malicious)": int(support_0),
        "Support (Trustworthy)": int(support_1)
    })

metrics_df = pd.DataFrame(metrics_data)
display(metrics_df)

# Optional: Export to CSV
# metrics_df.to_csv("classification_metrics_results.csv", index=False)
