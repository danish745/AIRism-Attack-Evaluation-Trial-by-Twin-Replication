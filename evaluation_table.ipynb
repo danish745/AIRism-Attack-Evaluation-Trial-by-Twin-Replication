# Evaluation Table Notebook (R2, RMSE, MAE)

Your code goes here.